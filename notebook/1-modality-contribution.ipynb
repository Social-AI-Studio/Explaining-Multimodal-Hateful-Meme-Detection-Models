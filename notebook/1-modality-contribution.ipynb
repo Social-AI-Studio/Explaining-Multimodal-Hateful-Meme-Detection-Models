{
 "cells": [
  {
   "cell_type": "markdown",
   "id": "2dc032d3",
   "metadata": {},
   "source": [
    "# Load annotations"
   ]
  },
  {
   "cell_type": "code",
   "execution_count": 9,
   "id": "39740d13",
   "metadata": {},
   "outputs": [],
   "source": [
    "import os\n",
    "import cv2\n",
    "import json\n",
    "import torch\n",
    "import tqdm\n",
    "import numpy as np\n",
    "import pandas as pd\n",
    "\n",
    "from matplotlib import pyplot as plt"
   ]
  },
  {
   "cell_type": "code",
   "execution_count": 26,
   "id": "374dcd49",
   "metadata": {},
   "outputs": [],
   "source": [
    "model = \"visual_bert_coco\"\n",
    "\n",
    "annotation_folder = \"/opt/datasets/mmf/datasets/hateful_memes/defaults/annotations\"\n",
    "image_folder = \"/opt/datasets/mmf/datasets/hateful_memes/defaults/images\""
   ]
  },
  {
   "cell_type": "code",
   "execution_count": 27,
   "id": "3b93483c",
   "metadata": {},
   "outputs": [
    {
     "data": {
      "text/html": [
       "<div>\n",
       "<style scoped>\n",
       "    .dataframe tbody tr th:only-of-type {\n",
       "        vertical-align: middle;\n",
       "    }\n",
       "\n",
       "    .dataframe tbody tr th {\n",
       "        vertical-align: top;\n",
       "    }\n",
       "\n",
       "    .dataframe thead th {\n",
       "        text-align: right;\n",
       "    }\n",
       "</style>\n",
       "<table border=\"1\" class=\"dataframe\">\n",
       "  <thead>\n",
       "    <tr style=\"text-align: right;\">\n",
       "      <th></th>\n",
       "      <th>id</th>\n",
       "      <th>img</th>\n",
       "      <th>label</th>\n",
       "      <th>text</th>\n",
       "    </tr>\n",
       "  </thead>\n",
       "  <tbody>\n",
       "    <tr>\n",
       "      <th>0</th>\n",
       "      <td>42953</td>\n",
       "      <td>img/42953.png</td>\n",
       "      <td>0</td>\n",
       "      <td>its their character not their color that matters</td>\n",
       "    </tr>\n",
       "    <tr>\n",
       "      <th>1</th>\n",
       "      <td>23058</td>\n",
       "      <td>img/23058.png</td>\n",
       "      <td>0</td>\n",
       "      <td>don't be afraid to love again everyone is not ...</td>\n",
       "    </tr>\n",
       "    <tr>\n",
       "      <th>2</th>\n",
       "      <td>13894</td>\n",
       "      <td>img/13894.png</td>\n",
       "      <td>0</td>\n",
       "      <td>putting bows on your pet</td>\n",
       "    </tr>\n",
       "    <tr>\n",
       "      <th>3</th>\n",
       "      <td>37408</td>\n",
       "      <td>img/37408.png</td>\n",
       "      <td>0</td>\n",
       "      <td>i love everything and everybody! except for sq...</td>\n",
       "    </tr>\n",
       "    <tr>\n",
       "      <th>4</th>\n",
       "      <td>82403</td>\n",
       "      <td>img/82403.png</td>\n",
       "      <td>0</td>\n",
       "      <td>everybody loves chocolate chip cookies, even h...</td>\n",
       "    </tr>\n",
       "  </tbody>\n",
       "</table>\n",
       "</div>"
      ],
      "text/plain": [
       "      id            img  label  \\\n",
       "0  42953  img/42953.png      0   \n",
       "1  23058  img/23058.png      0   \n",
       "2  13894  img/13894.png      0   \n",
       "3  37408  img/37408.png      0   \n",
       "4  82403  img/82403.png      0   \n",
       "\n",
       "                                                text  \n",
       "0   its their character not their color that matters  \n",
       "1  don't be afraid to love again everyone is not ...  \n",
       "2                           putting bows on your pet  \n",
       "3  i love everything and everybody! except for sq...  \n",
       "4  everybody loves chocolate chip cookies, even h...  "
      ]
     },
     "execution_count": 27,
     "metadata": {},
     "output_type": "execute_result"
    }
   ],
   "source": [
    "train_df = pd.read_json(os.path.join(annotation_folder, \"train.jsonl\"), lines=True)\n",
    "train_df.head()"
   ]
  },
  {
   "cell_type": "code",
   "execution_count": 28,
   "id": "c42cc3a1",
   "metadata": {},
   "outputs": [
    {
     "data": {
      "text/html": [
       "<div>\n",
       "<style scoped>\n",
       "    .dataframe tbody tr th:only-of-type {\n",
       "        vertical-align: middle;\n",
       "    }\n",
       "\n",
       "    .dataframe tbody tr th {\n",
       "        vertical-align: top;\n",
       "    }\n",
       "\n",
       "    .dataframe thead th {\n",
       "        text-align: right;\n",
       "    }\n",
       "</style>\n",
       "<table border=\"1\" class=\"dataframe\">\n",
       "  <thead>\n",
       "    <tr style=\"text-align: right;\">\n",
       "      <th></th>\n",
       "      <th>id</th>\n",
       "      <th>img</th>\n",
       "      <th>label</th>\n",
       "      <th>text</th>\n",
       "    </tr>\n",
       "  </thead>\n",
       "  <tbody>\n",
       "    <tr>\n",
       "      <th>0</th>\n",
       "      <td>8291</td>\n",
       "      <td>img/08291.png</td>\n",
       "      <td>1</td>\n",
       "      <td>white people is this a shooting range</td>\n",
       "    </tr>\n",
       "    <tr>\n",
       "      <th>1</th>\n",
       "      <td>46971</td>\n",
       "      <td>img/46971.png</td>\n",
       "      <td>1</td>\n",
       "      <td>bravery at its finest</td>\n",
       "    </tr>\n",
       "    <tr>\n",
       "      <th>2</th>\n",
       "      <td>3745</td>\n",
       "      <td>img/03745.png</td>\n",
       "      <td>1</td>\n",
       "      <td>your order comes to $37.50 and your white priv...</td>\n",
       "    </tr>\n",
       "    <tr>\n",
       "      <th>3</th>\n",
       "      <td>83745</td>\n",
       "      <td>img/83745.png</td>\n",
       "      <td>1</td>\n",
       "      <td>it is time.. to send these parasites back to t...</td>\n",
       "    </tr>\n",
       "    <tr>\n",
       "      <th>4</th>\n",
       "      <td>80243</td>\n",
       "      <td>img/80243.png</td>\n",
       "      <td>1</td>\n",
       "      <td>mississippi wind chime</td>\n",
       "    </tr>\n",
       "  </tbody>\n",
       "</table>\n",
       "</div>"
      ],
      "text/plain": [
       "      id            img  label  \\\n",
       "0   8291  img/08291.png      1   \n",
       "1  46971  img/46971.png      1   \n",
       "2   3745  img/03745.png      1   \n",
       "3  83745  img/83745.png      1   \n",
       "4  80243  img/80243.png      1   \n",
       "\n",
       "                                                text  \n",
       "0              white people is this a shooting range  \n",
       "1                              bravery at its finest  \n",
       "2  your order comes to $37.50 and your white priv...  \n",
       "3  it is time.. to send these parasites back to t...  \n",
       "4                             mississippi wind chime  "
      ]
     },
     "execution_count": 28,
     "metadata": {},
     "output_type": "execute_result"
    }
   ],
   "source": [
    "dev_seen_df = pd.read_json(os.path.join(annotation_folder, \"dev_seen.jsonl\"), lines=True)\n",
    "dev_seen_df.head()"
   ]
  },
  {
   "cell_type": "markdown",
   "id": "0c08d5f7",
   "metadata": {},
   "source": [
    "# Compute gradient weightage for each modality"
   ]
  },
  {
   "cell_type": "code",
   "execution_count": 53,
   "id": "f30fdb2c",
   "metadata": {},
   "outputs": [],
   "source": [
    "def get_gradient_weightage(idx):\n",
    "    text_gradients = load_npy(attr_text_dir, f\"{idx}_text_gradients.npy\").squeeze()\n",
    "    text_gradients = np.abs(text_gradients)\n",
    "    text_gradients = text_gradients.sum(axis=1)\n",
    "\n",
    "    img_gradients = load_npy(attr_img_dir, f\"{idx}_img_gradients.npy\", True)\n",
    "    img_gradients = img_gradients.sum(axis=1)\n",
    "\n",
    "    # As text and visual inputs have different number of input features, \n",
    "    # we will normalize the text and visual inputs to better represent the attribution\n",
    "    text_norm = np.linalg.norm(text_gradients) \n",
    "    img_norm = np.linalg.norm(img_gradients)\n",
    "    \n",
    "    return text_gradients / text_norm, img_gradients / img_norm"
   ]
  },
  {
   "cell_type": "code",
   "execution_count": 64,
   "id": "36de8221",
   "metadata": {},
   "outputs": [
    {
     "name": "stdout",
     "output_type": "stream",
     "text": [
      "visual_bert\n",
      "text inputs mean: 3.006, 0.804\n",
      "visual inputs mean: 7.705, 2.179\n",
      "\n",
      "visual_bert_coco\n",
      "text inputs mean: 3.112, 0.843\n",
      "visual inputs mean: 6.444, 0.976\n",
      "\n"
     ]
    }
   ],
   "source": [
    "for model in ['visual_bert', 'visual_bert_coco']:\n",
    "    text_weightages, visual_weightages = [], []\n",
    "    \n",
    "    attr_text_dir = f\"../model_outputs/{model}/text\"\n",
    "    attr_img_dir = f\"../model_outputs/{model}/img\"\n",
    "    \n",
    "    # compute for each sample\n",
    "    for idx in dev_seen_df['id']:\n",
    "        text_contri, img_contri = get_gradient_weightage(idx)\n",
    "\n",
    "        text_contri = text_contri.sum()\n",
    "        img_contri = img_contri.sum()\n",
    "\n",
    "        text_weightages.append(text_contri)\n",
    "        visual_weightages.append(img_contri)\n",
    "    \n",
    "    # print stats\n",
    "    print(model)\n",
    "    print(f\"text inputs mean: {np.mean(text_weightages):.3f}, {np.std(text_weightages):.3f}\")\n",
    "    print(f\"visual inputs mean: {np.mean(visual_weightages):.3f}, {np.std(visual_weightages):.3f}\")\n",
    "    print()"
   ]
  }
 ],
 "metadata": {
  "kernelspec": {
   "display_name": "Python 3 (ipykernel)",
   "language": "python",
   "name": "python3"
  },
  "language_info": {
   "codemirror_mode": {
    "name": "ipython",
    "version": 3
   },
   "file_extension": ".py",
   "mimetype": "text/x-python",
   "name": "python",
   "nbconvert_exporter": "python",
   "pygments_lexer": "ipython3",
   "version": "3.8.12"
  }
 },
 "nbformat": 4,
 "nbformat_minor": 5
}
